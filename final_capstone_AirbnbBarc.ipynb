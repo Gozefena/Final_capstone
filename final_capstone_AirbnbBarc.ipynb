{
 "cells": [
  {
   "cell_type": "code",
   "execution_count": 1,
   "metadata": {},
   "outputs": [],
   "source": [
    "import numpy as np\n",
    "import pandas as pd\n",
    "import seaborn as sns\n",
    "import matplotlib.pyplot as plt\n",
    "import statsmodels.api as sm\n",
    "import statsmodels.formula.api as smf"
   ]
  },
  {
   "cell_type": "code",
   "execution_count": 11,
   "metadata": {},
   "outputs": [],
   "source": [
    "#using pandas library and 'read_csv' function to read csv file as file already formated for us from Kaggle\n",
    "list = pd.read_csv('listings.csv')"
   ]
  },
  {
   "cell_type": "code",
   "execution_count": 16,
   "metadata": {},
   "outputs": [
    {
     "data": {
      "text/html": [
       "<div>\n",
       "<style scoped>\n",
       "    .dataframe tbody tr th:only-of-type {\n",
       "        vertical-align: middle;\n",
       "    }\n",
       "\n",
       "    .dataframe tbody tr th {\n",
       "        vertical-align: top;\n",
       "    }\n",
       "\n",
       "    .dataframe thead th {\n",
       "        text-align: right;\n",
       "    }\n",
       "</style>\n",
       "<table border=\"1\" class=\"dataframe\">\n",
       "  <thead>\n",
       "    <tr style=\"text-align: right;\">\n",
       "      <th></th>\n",
       "      <th>id</th>\n",
       "      <th>name</th>\n",
       "      <th>host_id</th>\n",
       "      <th>host_name</th>\n",
       "      <th>neighbourhood_group</th>\n",
       "      <th>neighbourhood</th>\n",
       "      <th>latitude</th>\n",
       "      <th>longitude</th>\n",
       "      <th>room_type</th>\n",
       "      <th>price</th>\n",
       "      <th>minimum_nights</th>\n",
       "      <th>number_of_reviews</th>\n",
       "      <th>last_review</th>\n",
       "      <th>reviews_per_month</th>\n",
       "      <th>calculated_host_listings_count</th>\n",
       "      <th>availability_365</th>\n",
       "    </tr>\n",
       "  </thead>\n",
       "  <tbody>\n",
       "    <tr>\n",
       "      <td>0</td>\n",
       "      <td>18666</td>\n",
       "      <td>Flat with Sunny Terrace</td>\n",
       "      <td>71615</td>\n",
       "      <td>Mireia And Maria</td>\n",
       "      <td>Sant Martí</td>\n",
       "      <td>el Camp de l'Arpa del Clot</td>\n",
       "      <td>41.40889</td>\n",
       "      <td>2.18555</td>\n",
       "      <td>Entire home/apt</td>\n",
       "      <td>130</td>\n",
       "      <td>3</td>\n",
       "      <td>1</td>\n",
       "      <td>10/10/2015</td>\n",
       "      <td>0.02</td>\n",
       "      <td>30</td>\n",
       "      <td>304</td>\n",
       "    </tr>\n",
       "    <tr>\n",
       "      <td>1</td>\n",
       "      <td>18674</td>\n",
       "      <td>Huge flat for 8 people close to Sagrada Familia</td>\n",
       "      <td>71615</td>\n",
       "      <td>Mireia And Maria</td>\n",
       "      <td>Eixample</td>\n",
       "      <td>la Sagrada Família</td>\n",
       "      <td>41.40420</td>\n",
       "      <td>2.17306</td>\n",
       "      <td>Entire home/apt</td>\n",
       "      <td>60</td>\n",
       "      <td>1</td>\n",
       "      <td>20</td>\n",
       "      <td>10/19/2019</td>\n",
       "      <td>0.25</td>\n",
       "      <td>30</td>\n",
       "      <td>312</td>\n",
       "    </tr>\n",
       "    <tr>\n",
       "      <td>2</td>\n",
       "      <td>23197</td>\n",
       "      <td>FORUM DELUXE 5 MINS WALK  CCIB CENTER &amp; SEA!</td>\n",
       "      <td>90417</td>\n",
       "      <td>Etain (Marnie)</td>\n",
       "      <td>Sant Martí</td>\n",
       "      <td>el Besòs i el Maresme</td>\n",
       "      <td>41.41203</td>\n",
       "      <td>2.22114</td>\n",
       "      <td>Entire home/apt</td>\n",
       "      <td>210</td>\n",
       "      <td>3</td>\n",
       "      <td>51</td>\n",
       "      <td>9/29/2019</td>\n",
       "      <td>0.48</td>\n",
       "      <td>2</td>\n",
       "      <td>359</td>\n",
       "    </tr>\n",
       "    <tr>\n",
       "      <td>3</td>\n",
       "      <td>25786</td>\n",
       "      <td>NICE ROOM AVAILABLE IN THE HEART OF GRACIA</td>\n",
       "      <td>108310</td>\n",
       "      <td>Pedro</td>\n",
       "      <td>Gràcia</td>\n",
       "      <td>la Vila de Gràcia</td>\n",
       "      <td>41.40145</td>\n",
       "      <td>2.15645</td>\n",
       "      <td>Private room</td>\n",
       "      <td>32</td>\n",
       "      <td>1</td>\n",
       "      <td>268</td>\n",
       "      <td>11/6/2019</td>\n",
       "      <td>2.38</td>\n",
       "      <td>1</td>\n",
       "      <td>46</td>\n",
       "    </tr>\n",
       "    <tr>\n",
       "      <td>4</td>\n",
       "      <td>31958</td>\n",
       "      <td>Gaudi Attic 1, Friendly Rentals</td>\n",
       "      <td>136853</td>\n",
       "      <td>Fidelio</td>\n",
       "      <td>Gràcia</td>\n",
       "      <td>el Camp d'en Grassot i Gràcia Nova</td>\n",
       "      <td>41.40950</td>\n",
       "      <td>2.15938</td>\n",
       "      <td>Entire home/apt</td>\n",
       "      <td>60</td>\n",
       "      <td>1</td>\n",
       "      <td>182</td>\n",
       "      <td>10/16/2019</td>\n",
       "      <td>1.71</td>\n",
       "      <td>39</td>\n",
       "      <td>324</td>\n",
       "    </tr>\n",
       "  </tbody>\n",
       "</table>\n",
       "</div>"
      ],
      "text/plain": [
       "      id                                             name  host_id  \\\n",
       "0  18666                          Flat with Sunny Terrace    71615   \n",
       "1  18674  Huge flat for 8 people close to Sagrada Familia    71615   \n",
       "2  23197     FORUM DELUXE 5 MINS WALK  CCIB CENTER & SEA!    90417   \n",
       "3  25786       NICE ROOM AVAILABLE IN THE HEART OF GRACIA   108310   \n",
       "4  31958                  Gaudi Attic 1, Friendly Rentals   136853   \n",
       "\n",
       "          host_name neighbourhood_group                       neighbourhood  \\\n",
       "0  Mireia And Maria          Sant Martí          el Camp de l'Arpa del Clot   \n",
       "1  Mireia And Maria            Eixample                  la Sagrada Família   \n",
       "2    Etain (Marnie)          Sant Martí               el Besòs i el Maresme   \n",
       "3             Pedro              Gràcia                   la Vila de Gràcia   \n",
       "4           Fidelio              Gràcia  el Camp d'en Grassot i Gràcia Nova   \n",
       "\n",
       "   latitude  longitude        room_type  price  minimum_nights  \\\n",
       "0  41.40889    2.18555  Entire home/apt    130               3   \n",
       "1  41.40420    2.17306  Entire home/apt     60               1   \n",
       "2  41.41203    2.22114  Entire home/apt    210               3   \n",
       "3  41.40145    2.15645     Private room     32               1   \n",
       "4  41.40950    2.15938  Entire home/apt     60               1   \n",
       "\n",
       "   number_of_reviews last_review  reviews_per_month  \\\n",
       "0                  1  10/10/2015               0.02   \n",
       "1                 20  10/19/2019               0.25   \n",
       "2                 51   9/29/2019               0.48   \n",
       "3                268   11/6/2019               2.38   \n",
       "4                182  10/16/2019               1.71   \n",
       "\n",
       "   calculated_host_listings_count  availability_365  \n",
       "0                              30               304  \n",
       "1                              30               312  \n",
       "2                               2               359  \n",
       "3                               1                46  \n",
       "4                              39               324  "
      ]
     },
     "execution_count": 16,
     "metadata": {},
     "output_type": "execute_result"
    }
   ],
   "source": [
    "#examing head csv file \n",
    "list.head()"
   ]
  },
  {
   "cell_type": "code",
   "execution_count": 13,
   "metadata": {},
   "outputs": [
    {
     "name": "stdout",
     "output_type": "stream",
     "text": [
      "<class 'pandas.core.frame.DataFrame'>\n",
      "RangeIndex: 20428 entries, 0 to 20427\n",
      "Data columns (total 16 columns):\n",
      "id                                20428 non-null int64\n",
      "name                              20413 non-null object\n",
      "host_id                           20428 non-null int64\n",
      "host_name                         20411 non-null object\n",
      "neighbourhood_group               20428 non-null object\n",
      "neighbourhood                     20428 non-null object\n",
      "latitude                          20428 non-null float64\n",
      "longitude                         20428 non-null float64\n",
      "room_type                         20428 non-null object\n",
      "price                             20428 non-null int64\n",
      "minimum_nights                    20428 non-null int64\n",
      "number_of_reviews                 20428 non-null int64\n",
      "last_review                       16152 non-null object\n",
      "reviews_per_month                 16152 non-null float64\n",
      "calculated_host_listings_count    20428 non-null int64\n",
      "availability_365                  20428 non-null int64\n",
      "dtypes: float64(3), int64(7), object(6)\n",
      "memory usage: 2.5+ MB\n"
     ]
    }
   ],
   "source": [
    "#display all informations of my data frame\n",
    "list.info()"
   ]
  },
  {
   "cell_type": "code",
   "execution_count": 14,
   "metadata": {
    "scrolled": true
   },
   "outputs": [
    {
     "data": {
      "text/plain": [
       "20428"
      ]
     },
     "execution_count": 14,
     "metadata": {},
     "output_type": "execute_result"
    }
   ],
   "source": [
    "#checking amount of rows in given dataset to understand the size we are working with\n",
    "len(list)"
   ]
  },
  {
   "cell_type": "code",
   "execution_count": 15,
   "metadata": {
    "scrolled": true
   },
   "outputs": [
    {
     "data": {
      "text/plain": [
       "id                                  int64\n",
       "name                               object\n",
       "host_id                             int64\n",
       "host_name                          object\n",
       "neighbourhood_group                object\n",
       "neighbourhood                      object\n",
       "latitude                          float64\n",
       "longitude                         float64\n",
       "room_type                          object\n",
       "price                               int64\n",
       "minimum_nights                      int64\n",
       "number_of_reviews                   int64\n",
       "last_review                        object\n",
       "reviews_per_month                 float64\n",
       "calculated_host_listings_count      int64\n",
       "availability_365                    int64\n",
       "dtype: object"
      ]
     },
     "execution_count": 15,
     "metadata": {},
     "output_type": "execute_result"
    }
   ],
   "source": [
    "#checking type of every column in the dataset\n",
    "list.dtypes"
   ]
  },
  {
   "cell_type": "markdown",
   "metadata": {},
   "source": [
    "After loading the dataset in and from the head of AB_2019_NYC dataset we can see a number of things. These 16 columns provide a very rich amount of information for deep data exploration we can do on this dataset. We do already see some missing values, which will require cleaning and handling of NaN values. Later, we may need to continue with mapping certain values to ones and zeros for predictive analytics."
   ]
  },
  {
   "cell_type": "markdown",
   "metadata": {},
   "source": [
    "# Understadning & Cleaning Data"
   ]
  },
  {
   "cell_type": "code",
   "execution_count": 17,
   "metadata": {
    "scrolled": true
   },
   "outputs": [
    {
     "data": {
      "text/plain": [
       "id                                   0\n",
       "name                                15\n",
       "host_id                              0\n",
       "host_name                           17\n",
       "neighbourhood_group                  0\n",
       "neighbourhood                        0\n",
       "latitude                             0\n",
       "longitude                            0\n",
       "room_type                            0\n",
       "price                                0\n",
       "minimum_nights                       0\n",
       "number_of_reviews                    0\n",
       "last_review                       4276\n",
       "reviews_per_month                 4276\n",
       "calculated_host_listings_count       0\n",
       "availability_365                     0\n",
       "dtype: int64"
      ]
     },
     "execution_count": 17,
     "metadata": {},
     "output_type": "execute_result"
    }
   ],
   "source": [
    "#looking to find out first what columns have null values\n",
    "#using 'sum' function will show us how many nulls are found in each column in dataset\n",
    "list.isnull().sum()"
   ]
  },
  {
   "cell_type": "markdown",
   "metadata": {},
   "source": [
    "Let's proceed with removing columns \n",
    "that are not important and handling of missing data."
   ]
  },
  {
   "cell_type": "code",
   "execution_count": 18,
   "metadata": {},
   "outputs": [],
   "source": [
    "list.drop(['id','host_name','last_review'], axis=1, inplace=True)"
   ]
  },
  {
   "cell_type": "code",
   "execution_count": 20,
   "metadata": {},
   "outputs": [
    {
     "name": "stdout",
     "output_type": "stream",
     "text": [
      "<class 'pandas.core.frame.DataFrame'>\n",
      "RangeIndex: 20428 entries, 0 to 20427\n",
      "Data columns (total 13 columns):\n",
      "name                              20413 non-null object\n",
      "host_id                           20428 non-null int64\n",
      "neighbourhood_group               20428 non-null object\n",
      "neighbourhood                     20428 non-null object\n",
      "latitude                          20428 non-null float64\n",
      "longitude                         20428 non-null float64\n",
      "room_type                         20428 non-null object\n",
      "price                             20428 non-null int64\n",
      "minimum_nights                    20428 non-null int64\n",
      "number_of_reviews                 20428 non-null int64\n",
      "reviews_per_month                 16152 non-null float64\n",
      "calculated_host_listings_count    20428 non-null int64\n",
      "availability_365                  20428 non-null int64\n",
      "dtypes: float64(3), int64(6), object(4)\n",
      "memory usage: 2.0+ MB\n"
     ]
    }
   ],
   "source": [
    "##Display the new dataframe\n",
    "list.info()"
   ]
  },
  {
   "cell_type": "code",
   "execution_count": 21,
   "metadata": {},
   "outputs": [
    {
     "data": {
      "text/plain": [
       "0"
      ]
     },
     "execution_count": 21,
     "metadata": {},
     "output_type": "execute_result"
    }
   ],
   "source": [
    "#replacing all NaN values in 'reviews_per_month' with 0\n",
    "list.fillna({'reviews_per_month':0}, inplace=True)\n",
    "#examing changes\n",
    "list.reviews_per_month.isnull().sum()"
   ]
  },
  {
   "cell_type": "code",
   "execution_count": 34,
   "metadata": {},
   "outputs": [
    {
     "data": {
      "text/plain": [
       "Eixample               6719\n",
       "Ciutat Vella           4943\n",
       "Sants-Montjuïc         2363\n",
       "Sant Martí             2174\n",
       "Gràcia                 1771\n",
       "Sarrià-Sant Gervasi     757\n",
       "Horta-Guinardó          674\n",
       "Les Corts               421\n",
       "Sant Andreu             354\n",
       "Nou Barris              252\n",
       "Name: neighbourhood_group, dtype: int64"
      ]
     },
     "execution_count": 34,
     "metadata": {},
     "output_type": "execute_result"
    }
   ],
   "source": [
    "#proceedind with exploring some interesting categorical unique values\n",
    "list.neighbourhood_group.unique()\n",
    "list.neighbourhood_group.value_counts()"
   ]
  },
  {
   "cell_type": "code",
   "execution_count": 23,
   "metadata": {},
   "outputs": [
    {
     "data": {
      "text/plain": [
       "array([\"el Camp de l'Arpa del Clot\", 'la Sagrada Família',\n",
       "       'el Besòs i el Maresme', 'la Vila de Gràcia',\n",
       "       \"el Camp d'en Grassot i Gràcia Nova\", 'les Corts',\n",
       "       'el Barri Gòtic', \"l'Antiga Esquerra de l'Eixample\",\n",
       "       'la Barceloneta', \"la Dreta de l'Eixample\",\n",
       "       'Sant Pere, Santa Caterina i la Ribera', 'el Poble Sec',\n",
       "       'el Fort Pienc', 'el Raval', 'Vallcarca i els Penitents',\n",
       "       'el Poblenou', 'el Clot', 'Sant Antoni',\n",
       "       'Vallvidrera, el Tibidabo i les Planes', 'Sants',\n",
       "       'Diagonal Mar i el Front Marítim del Poblenou', 'Pedralbes',\n",
       "       'el Guinardó', 'Sant Andreu', 'Provençals del Poblenou', 'Horta',\n",
       "       'la Salut', 'Sant Gervasi - Galvany', 'Sant Martí de Provençals',\n",
       "       \"la Nova Esquerra de l'Eixample\", 'Sarrià', 'el Coll',\n",
       "       'la Vila Olímpica del Poblenou', 'Hostafrancs',\n",
       "       'el Parc i la Llacuna del Poblenou', 'la Bordeta',\n",
       "       'Vilapicina i la Torre Llobeta', 'la Font de la Guatlla',\n",
       "       'el Putxet i el Farró', 'el Baix Guinardó', 'la Marina de Port',\n",
       "       'Sants - Badal', 'la Maternitat i Sant Ramon',\n",
       "       'el Congrés i els Indians', 'Navas', 'Torre Baró',\n",
       "       'la Prosperitat', 'el Carmel', 'la Sagrera', 'Canyelles',\n",
       "       'les Tres Torres', 'la Teixonera', 'Can Baró',\n",
       "       'Sant Gervasi - la Bonanova', 'la Marina del Prat Vermell',\n",
       "       'la Verneda i la Pau', 'Montbau', 'Sant Genís dels Agudells',\n",
       "       \"la Font d'en Fargues\", 'la Guineueta', 'Porta',\n",
       "       'Ciutat Meridiana', 'el Turó de la Peira', \"la Vall d'Hebron\",\n",
       "       'Verdun', 'el Bon Pastor', 'les Roquetes', 'la Trinitat Vella',\n",
       "       'la Trinitat Nova', 'Baró de Viver', 'Can Peguera'], dtype=object)"
      ]
     },
     "execution_count": 23,
     "metadata": {},
     "output_type": "execute_result"
    }
   ],
   "source": [
    "#examining the unique values of neighbourhood as this column will appear very handy for later analysis\n",
    "list.neighbourhood.unique()"
   ]
  },
  {
   "cell_type": "code",
   "execution_count": 24,
   "metadata": {},
   "outputs": [
    {
     "data": {
      "text/plain": [
       "array(['Entire home/apt', 'Private room', 'Hotel room', 'Shared room'],\n",
       "      dtype=object)"
      ]
     },
     "execution_count": 24,
     "metadata": {},
     "output_type": "execute_result"
    }
   ],
   "source": [
    "#examining the unique values of room_type as this column will appear very handy for later analysis\n",
    "list.room_type.unique()"
   ]
  },
  {
   "cell_type": "code",
   "execution_count": 30,
   "metadata": {},
   "outputs": [
    {
     "data": {
      "text/plain": [
       "102947901    155\n",
       "170716140    154\n",
       "4459553      140\n",
       "158023606    128\n",
       "171236207    114\n",
       "193618270    104\n",
       "396363        99\n",
       "36607755      98\n",
       "1447144       90\n",
       "1391607       88\n",
       "1503151       83\n",
       "32037490      77\n",
       "157250994     69\n",
       "299462        69\n",
       "10704         68\n",
       "Name: host_id, dtype: int64"
      ]
     },
     "execution_count": 30,
     "metadata": {},
     "output_type": "execute_result"
    }
   ],
   "source": [
    "#let's see what hosts (IDs) have the most listings on Airbnb platform and taking advantage of this service\n",
    "top_host = list.host_id.value_counts().head(15)\n",
    "top_host"
   ]
  },
  {
   "cell_type": "code",
   "execution_count": 69,
   "metadata": {},
   "outputs": [
    {
     "data": {
      "text/plain": [
       "155"
      ]
     },
     "execution_count": 69,
     "metadata": {},
     "output_type": "execute_result"
    }
   ],
   "source": [
    "#confirming our fidnings with already existing column called 'calculated_host_listings_count'\n",
    "top_host_check = list.calculated_host_listings_count.max()\n",
    "top_host_check"
   ]
  },
  {
   "cell_type": "code",
   "execution_count": 70,
   "metadata": {},
   "outputs": [],
   "source": [
    "#setting figure size for future visualizations\n",
    "sns.set(rc={'figure.figsize':(15,8)})"
   ]
  },
  {
   "cell_type": "code",
   "execution_count": 71,
   "metadata": {},
   "outputs": [
    {
     "data": {
      "text/plain": [
       "[Text(0, 0, '102947901'),\n",
       " Text(0, 0, '170716140'),\n",
       " Text(0, 0, '4459553'),\n",
       " Text(0, 0, '158023606'),\n",
       " Text(0, 0, '171236207'),\n",
       " Text(0, 0, '193618270'),\n",
       " Text(0, 0, '396363'),\n",
       " Text(0, 0, '36607755'),\n",
       " Text(0, 0, '1447144'),\n",
       " Text(0, 0, '1391607'),\n",
       " Text(0, 0, '1503151'),\n",
       " Text(0, 0, '32037490'),\n",
       " Text(0, 0, '157250994'),\n",
       " Text(0, 0, '299462'),\n",
       " Text(0, 0, '10704')]"
      ]
     },
     "execution_count": 71,
     "metadata": {},
     "output_type": "execute_result"
    },
    {
     "data": {
      "image/png": "[encoded data removed]",
      "text/plain": [
       "<Figure size 1080x576 with 1 Axes>"
      ]
     },
     "metadata": {},
     "output_type": "display_data"
    }
   ],
   "source": [
    "viz_1=top_host.plot(kind='bar')\n",
    "viz_1.set_title('Hosts with the most listings in Barcelona')\n",
    "viz_1.set_ylabel('Count of listings')\n",
    "viz_1.set_xlabel('Host IDs')\n",
    "viz_1.set_xticklabels(viz_1.get_xticklabels(), rotation=45)"
   ]
  },
  {
   "cell_type": "code",
   "execution_count": 72,
   "metadata": {},
   "outputs": [],
   "source": [
    "#let's find out more about our neiberhoods presented \n",
    "#Eixample\n",
    "sub_1=list.loc[list['neighbourhood_group'] == 'Eixample']\n",
    "price_sub1=sub_1[['price']]\n",
    "#Sant Martí\n",
    "sub_2=list.loc[list['neighbourhood_group'] == 'Sant Martí']\n",
    "price_sub2=sub_2[['price']]\n",
    "#Gràcia\n",
    "sub_3=list.loc[list['neighbourhood_group'] == 'Gràcia']\n",
    "price_sub3=sub_3[['price']]\n",
    "#Les Corts\n",
    "sub_4=list.loc[list['neighbourhood_group'] == 'Les Corts']\n",
    "price_sub4=sub_4[['price']]\n",
    "#Ciutat Vella\n",
    "sub_5=list.loc[list['neighbourhood_group'] == 'Ciutat Vella']\n",
    "price_sub5=sub_5[['price']]\n",
    "#Sants-Montjuïc\n",
    "sub_6=list.loc[list['neighbourhood_group'] == 'Sants-Montjuïc']\n",
    "price_sub6=sub_6[['price']]\n",
    "#Sarrià-Sant Gervasi\n",
    "sub_7=list.loc[list['neighbourhood_group'] == 'Sarrià-Sant Gervasi']\n",
    "price_sub7=sub_7[['price']]\n",
    "##Horta-Guinardó\n",
    "sub_8=list.loc[list['neighbourhood_group'] == 'Horta-Guinardó']\n",
    "price_sub8=sub_8[['price']]\n",
    "#Sant Andreu\n",
    "sub_9=list.loc[list['neighbourhood_group'] == 'Sant Andreu']\n",
    "price_sub9=sub_9[['price']]\n",
    "#Nou Barris\n",
    "sub_10=list.loc[list['neighbourhood_group'] == 'Nou Barris']\n",
    "price_sub10=sub_10[['price']]\n",
    "#putting all the prices' dfs in the list\n",
    "price_list_by_n=[price_sub1, price_sub2, price_sub3, price_sub4, price_sub5, price_sub6, price_sub7, price_sub8, price_sub9, price_sub10]"
   ]
  },
  {
   "cell_type": "code",
   "execution_count": 74,
   "metadata": {},
   "outputs": [
    {
     "data": {
      "text/plain": [
       "[Empty DataFrame\n",
       " Columns: [Stats, Eixample]\n",
       " Index: [], Empty DataFrame\n",
       " Columns: [Stats, Sant Martí]\n",
       " Index: [], Empty DataFrame\n",
       " Columns: [Stats, Gràcia]\n",
       " Index: [], Empty DataFrame\n",
       " Columns: [Stats, Les Corts]\n",
       " Index: [], Empty DataFrame\n",
       " Columns: [Stats, Ciutat Vella]\n",
       " Index: [], Empty DataFrame\n",
       " Columns: [Stats, Sants-Montjuïc]\n",
       " Index: [], Empty DataFrame\n",
       " Columns: [Stats, Sarrià-Sant Gervasi]\n",
       " Index: [], Empty DataFrame\n",
       " Columns: [Stats, Horta-Guinardó]\n",
       " Index: [], Empty DataFrame\n",
       " Columns: [Stats, Sant AndreuNou Barris]\n",
       " Index: [], Empty DataFrame\n",
       " Columns: [Stats, price]\n",
       " Index: []]"
      ]
     },
     "execution_count": 74,
     "metadata": {},
     "output_type": "execute_result"
    }
   ],
   "source": [
    "#creating an empty list that we will append later with price distributions for each neighbourhood_group\n",
    "p_l_b_n_2=[]\n",
    "#creating list with known values in neighbourhood_group column\n",
    "nei_list=['Eixample', 'Sant Martí', 'Gràcia', 'Les Corts', 'Ciutat Vella', 'Sants-Montjuïc', 'Sarrià-Sant Gervasi', 'Horta-Guinardó', 'Sant Andreu' 'Nou Barris']\n",
    "#creating a for loop to get statistics for price ranges and append it to our empty list\n",
    "for x in price_list_by_n:\n",
    "    i=x.describe(percentiles=[.25, .50, .75])\n",
    "    i=i.iloc[9:]\n",
    "    i.reset_index(inplace=True)\n",
    "    i.rename(columns={'index':'Stats'}, inplace=True)\n",
    "    p_l_b_n_2.append(i)\n",
    "#changing names of the price column to the area name for easier reading of the table    \n",
    "p_l_b_n_2[0].rename(columns={'price':nei_list[0]}, inplace=True)\n",
    "p_l_b_n_2[1].rename(columns={'price':nei_list[1]}, inplace=True)\n",
    "p_l_b_n_2[2].rename(columns={'price':nei_list[2]}, inplace=True)\n",
    "p_l_b_n_2[3].rename(columns={'price':nei_list[3]}, inplace=True)\n",
    "p_l_b_n_2[4].rename(columns={'price':nei_list[4]}, inplace=True)\n",
    "p_l_b_n_2[5].rename(columns={'price':nei_list[5]}, inplace=True)\n",
    "p_l_b_n_2[6].rename(columns={'price':nei_list[6]}, inplace=True)\n",
    "p_l_b_n_2[7].rename(columns={'price':nei_list[7]}, inplace=True)\n",
    "p_l_b_n_2[8].rename(columns={'price':nei_list[8]}, inplace=True)\n",
    "p_l_b_n_2[9].rename(columns={'price':nei_list[9]}, inplace=True)\n",
    "p_l_b_n_2[10].rename(columns={'price':nei_list[10]}, inplace=True)\n",
    "\n",
    "p_l_b_n_2"
   ]
  },
  {
   "cell_type": "code",
   "execution_count": 68,
   "metadata": {},
   "outputs": [
    {
     "data": {
      "text/html": [
       "<div>\n",
       "<style scoped>\n",
       "    .dataframe tbody tr th:only-of-type {\n",
       "        vertical-align: middle;\n",
       "    }\n",
       "\n",
       "    .dataframe tbody tr th {\n",
       "        vertical-align: top;\n",
       "    }\n",
       "\n",
       "    .dataframe thead th {\n",
       "        text-align: right;\n",
       "    }\n",
       "</style>\n",
       "<table border=\"1\" class=\"dataframe\">\n",
       "  <thead>\n",
       "    <tr style=\"text-align: right;\">\n",
       "      <th></th>\n",
       "      <th>name</th>\n",
       "      <th>host_id</th>\n",
       "      <th>neighbourhood_group</th>\n",
       "      <th>neighbourhood</th>\n",
       "      <th>latitude</th>\n",
       "      <th>longitude</th>\n",
       "      <th>room_type</th>\n",
       "      <th>price</th>\n",
       "      <th>minimum_nights</th>\n",
       "      <th>number_of_reviews</th>\n",
       "      <th>reviews_per_month</th>\n",
       "      <th>calculated_host_listings_count</th>\n",
       "      <th>availability_365</th>\n",
       "    </tr>\n",
       "  </thead>\n",
       "  <tbody>\n",
       "    <tr>\n",
       "      <td>74</td>\n",
       "      <td>Room for rent in BCN/ non smoker</td>\n",
       "      <td>859557</td>\n",
       "      <td>Sant Andreu</td>\n",
       "      <td>Sant Andreu</td>\n",
       "      <td>41.43484</td>\n",
       "      <td>2.19234</td>\n",
       "      <td>Private room</td>\n",
       "      <td>20</td>\n",
       "      <td>10</td>\n",
       "      <td>6</td>\n",
       "      <td>0.06</td>\n",
       "      <td>1</td>\n",
       "      <td>98</td>\n",
       "    </tr>\n",
       "    <tr>\n",
       "      <td>272</td>\n",
       "      <td>Lovely Penthouse in Barcelona</td>\n",
       "      <td>2517389</td>\n",
       "      <td>Sant Andreu</td>\n",
       "      <td>el Congrés i els Indians</td>\n",
       "      <td>41.42255</td>\n",
       "      <td>2.18061</td>\n",
       "      <td>Entire home/apt</td>\n",
       "      <td>140</td>\n",
       "      <td>3</td>\n",
       "      <td>23</td>\n",
       "      <td>0.30</td>\n",
       "      <td>2</td>\n",
       "      <td>68</td>\n",
       "    </tr>\n",
       "    <tr>\n",
       "      <td>328</td>\n",
       "      <td>COMFORTABLE AND VERY SPACIOUS LARGE</td>\n",
       "      <td>2751629</td>\n",
       "      <td>Sant Andreu</td>\n",
       "      <td>Navas</td>\n",
       "      <td>41.41758</td>\n",
       "      <td>2.18742</td>\n",
       "      <td>Private room</td>\n",
       "      <td>20</td>\n",
       "      <td>1</td>\n",
       "      <td>21</td>\n",
       "      <td>0.27</td>\n",
       "      <td>1</td>\n",
       "      <td>354</td>\n",
       "    </tr>\n",
       "    <tr>\n",
       "      <td>770</td>\n",
       "      <td>Habitación y terraza soleada</td>\n",
       "      <td>5583741</td>\n",
       "      <td>Sant Andreu</td>\n",
       "      <td>la Sagrera</td>\n",
       "      <td>41.42239</td>\n",
       "      <td>2.18914</td>\n",
       "      <td>Private room</td>\n",
       "      <td>30</td>\n",
       "      <td>2</td>\n",
       "      <td>254</td>\n",
       "      <td>3.20</td>\n",
       "      <td>2</td>\n",
       "      <td>353</td>\n",
       "    </tr>\n",
       "    <tr>\n",
       "      <td>859</td>\n",
       "      <td>Beautiful bright single room</td>\n",
       "      <td>5583741</td>\n",
       "      <td>Sant Andreu</td>\n",
       "      <td>la Sagrera</td>\n",
       "      <td>41.42374</td>\n",
       "      <td>2.18778</td>\n",
       "      <td>Private room</td>\n",
       "      <td>30</td>\n",
       "      <td>2</td>\n",
       "      <td>254</td>\n",
       "      <td>3.48</td>\n",
       "      <td>2</td>\n",
       "      <td>354</td>\n",
       "    </tr>\n",
       "    <tr>\n",
       "      <td>...</td>\n",
       "      <td>...</td>\n",
       "      <td>...</td>\n",
       "      <td>...</td>\n",
       "      <td>...</td>\n",
       "      <td>...</td>\n",
       "      <td>...</td>\n",
       "      <td>...</td>\n",
       "      <td>...</td>\n",
       "      <td>...</td>\n",
       "      <td>...</td>\n",
       "      <td>...</td>\n",
       "      <td>...</td>\n",
       "      <td>...</td>\n",
       "    </tr>\n",
       "    <tr>\n",
       "      <td>19785</td>\n",
       "      <td>Cozy Bedroom in New Flat</td>\n",
       "      <td>303599287</td>\n",
       "      <td>Sant Andreu</td>\n",
       "      <td>Navas</td>\n",
       "      <td>41.41913</td>\n",
       "      <td>2.18366</td>\n",
       "      <td>Private room</td>\n",
       "      <td>20</td>\n",
       "      <td>2</td>\n",
       "      <td>1</td>\n",
       "      <td>1.00</td>\n",
       "      <td>1</td>\n",
       "      <td>57</td>\n",
       "    </tr>\n",
       "    <tr>\n",
       "      <td>19909</td>\n",
       "      <td>Quarto doble localizado en La Segrega.</td>\n",
       "      <td>304379004</td>\n",
       "      <td>Sant Andreu</td>\n",
       "      <td>la Sagrera</td>\n",
       "      <td>41.42443</td>\n",
       "      <td>2.18505</td>\n",
       "      <td>Private room</td>\n",
       "      <td>65</td>\n",
       "      <td>2</td>\n",
       "      <td>0</td>\n",
       "      <td>0.00</td>\n",
       "      <td>1</td>\n",
       "      <td>43</td>\n",
       "    </tr>\n",
       "    <tr>\n",
       "      <td>20101</td>\n",
       "      <td>Habitación en Barcelona muy soleada</td>\n",
       "      <td>305466376</td>\n",
       "      <td>Sant Andreu</td>\n",
       "      <td>Sant Andreu</td>\n",
       "      <td>41.43495</td>\n",
       "      <td>2.19107</td>\n",
       "      <td>Private room</td>\n",
       "      <td>35</td>\n",
       "      <td>2</td>\n",
       "      <td>0</td>\n",
       "      <td>0.00</td>\n",
       "      <td>1</td>\n",
       "      <td>9</td>\n",
       "    </tr>\n",
       "    <tr>\n",
       "      <td>20248</td>\n",
       "      <td>Habitación al lado de una parada de metro</td>\n",
       "      <td>306827496</td>\n",
       "      <td>Sant Andreu</td>\n",
       "      <td>Sant Andreu</td>\n",
       "      <td>41.43516</td>\n",
       "      <td>2.19279</td>\n",
       "      <td>Private room</td>\n",
       "      <td>50</td>\n",
       "      <td>1</td>\n",
       "      <td>0</td>\n",
       "      <td>0.00</td>\n",
       "      <td>1</td>\n",
       "      <td>10</td>\n",
       "    </tr>\n",
       "    <tr>\n",
       "      <td>20305</td>\n",
       "      <td>Amazing Beautiful Large Room</td>\n",
       "      <td>242611486</td>\n",
       "      <td>Sant Andreu</td>\n",
       "      <td>Navas</td>\n",
       "      <td>41.41847</td>\n",
       "      <td>2.18756</td>\n",
       "      <td>Private room</td>\n",
       "      <td>39</td>\n",
       "      <td>1</td>\n",
       "      <td>0</td>\n",
       "      <td>0.00</td>\n",
       "      <td>1</td>\n",
       "      <td>359</td>\n",
       "    </tr>\n",
       "  </tbody>\n",
       "</table>\n",
       "<p>354 rows × 13 columns</p>\n",
       "</div>"
      ],
      "text/plain": [
       "                                            name    host_id  \\\n",
       "74              Room for rent in BCN/ non smoker     859557   \n",
       "272                Lovely Penthouse in Barcelona    2517389   \n",
       "328          COMFORTABLE AND VERY SPACIOUS LARGE    2751629   \n",
       "770                 Habitación y terraza soleada    5583741   \n",
       "859                 Beautiful bright single room    5583741   \n",
       "...                                          ...        ...   \n",
       "19785                   Cozy Bedroom in New Flat  303599287   \n",
       "19909     Quarto doble localizado en La Segrega.  304379004   \n",
       "20101        Habitación en Barcelona muy soleada  305466376   \n",
       "20248  Habitación al lado de una parada de metro  306827496   \n",
       "20305               Amazing Beautiful Large Room  242611486   \n",
       "\n",
       "      neighbourhood_group             neighbourhood  latitude  longitude  \\\n",
       "74            Sant Andreu               Sant Andreu  41.43484    2.19234   \n",
       "272           Sant Andreu  el Congrés i els Indians  41.42255    2.18061   \n",
       "328           Sant Andreu                     Navas  41.41758    2.18742   \n",
       "770           Sant Andreu                la Sagrera  41.42239    2.18914   \n",
       "859           Sant Andreu                la Sagrera  41.42374    2.18778   \n",
       "...                   ...                       ...       ...        ...   \n",
       "19785         Sant Andreu                     Navas  41.41913    2.18366   \n",
       "19909         Sant Andreu                la Sagrera  41.42443    2.18505   \n",
       "20101         Sant Andreu               Sant Andreu  41.43495    2.19107   \n",
       "20248         Sant Andreu               Sant Andreu  41.43516    2.19279   \n",
       "20305         Sant Andreu                     Navas  41.41847    2.18756   \n",
       "\n",
       "             room_type  price  minimum_nights  number_of_reviews  \\\n",
       "74        Private room     20              10                  6   \n",
       "272    Entire home/apt    140               3                 23   \n",
       "328       Private room     20               1                 21   \n",
       "770       Private room     30               2                254   \n",
       "859       Private room     30               2                254   \n",
       "...                ...    ...             ...                ...   \n",
       "19785     Private room     20               2                  1   \n",
       "19909     Private room     65               2                  0   \n",
       "20101     Private room     35               2                  0   \n",
       "20248     Private room     50               1                  0   \n",
       "20305     Private room     39               1                  0   \n",
       "\n",
       "       reviews_per_month  calculated_host_listings_count  availability_365  \n",
       "74                  0.06                               1                98  \n",
       "272                 0.30                               2                68  \n",
       "328                 0.27                               1               354  \n",
       "770                 3.20                               2               353  \n",
       "859                 3.48                               2               354  \n",
       "...                  ...                             ...               ...  \n",
       "19785               1.00                               1                57  \n",
       "19909               0.00                               1                43  \n",
       "20101               0.00                               1                 9  \n",
       "20248               0.00                               1                10  \n",
       "20305               0.00                               1               359  \n",
       "\n",
       "[354 rows x 13 columns]"
      ]
     },
     "execution_count": 68,
     "metadata": {},
     "output_type": "execute_result"
    }
   ],
   "source": [
    "list.loc[list['neighbourhood_group'] == 'Sant Andreu']"
   ]
  }
 ],
 "metadata": {
  "kernelspec": {
   "display_name": "Python 3",
   "language": "python",
   "name": "python3"
  },
  "language_info": {
   "codemirror_mode": {
    "name": "ipython",
    "version": 3
   },
   "file_extension": ".py",
   "mimetype": "text/x-python",
   "name": "python",
   "nbconvert_exporter": "python",
   "pygments_lexer": "ipython3",
   "version": "3.7.3"
  }
 },
 "nbformat": 4,
 "nbformat_minor": 2
}
